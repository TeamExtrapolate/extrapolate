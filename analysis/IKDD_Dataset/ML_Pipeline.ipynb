{
 "cells": [
  {
   "cell_type": "code",
   "execution_count": 1,
   "metadata": {},
   "outputs": [
    {
     "name": "stderr",
     "output_type": "stream",
     "text": [
      "/Users/sw/.venv/lib/python3.6/site-packages/sklearn/cross_validation.py:41: DeprecationWarning: This module was deprecated in version 0.18 in favor of the model_selection module into which all the refactored classes and functions are moved. Also note that the interface of the new CV iterators are different from that of this module. This module will be removed in 0.20.\n",
      "  \"This module will be removed in 0.20.\", DeprecationWarning)\n"
     ]
    }
   ],
   "source": [
    "import pandas as pd\n",
    "import numpy as np\n",
    "from sklearn.metrics import mean_absolute_error, mean_squared_error\n",
    "from sklearn.linear_model import LinearRegression\n",
    "from sklearn import metrics\n",
    "from sklearn.cross_validation import train_test_split\n",
    "from sklearn.linear_model import LinearRegression, Ridge, RidgeCV, LassoCV, LassoLarsCV, ElasticNet, Lasso\n",
    "from sklearn.preprocessing import scale, MinMaxScaler\n",
    "import pickle\n",
    "from sklearn.cross_validation import cross_val_score\n",
    "from sklearn import svm\n",
    "from sklearn import metrics\n",
    "from sklearn.ensemble import RandomForestRegressor\n",
    "from sklearn.neural_network import MLPRegressor\n",
    "from sklearn import linear_model\n",
    "from scipy.stats import skew\n",
    "from scipy.stats.stats import pearsonr\n",
    "import matplotlib\n",
    "import matplotlib.pyplot as plt\n",
    "import seaborn as sns\n",
    "pd.options.display.max_columns = 50\n",
    "sns.set_style('darkgrid')\n",
    "matplotlib.rc('font', size=20)\n",
    "matplotlib.rc('axes', titlesize=20)\n",
    "matplotlib.rc('axes', labelsize=20)\n",
    "matplotlib.rc('xtick', labelsize=20)\n",
    "matplotlib.rc('ytick', labelsize=20)\n",
    "matplotlib.rc('legend', fontsize=20)\n",
    "matplotlib.rc('figure', titlesize=20)\n",
    "%matplotlib inline"
   ]
  },
  {
   "cell_type": "code",
   "execution_count": 2,
   "metadata": {
    "scrolled": true
   },
   "outputs": [],
   "source": [
    "train = pd.read_excel(\"train.xlsx\")"
   ]
  },
  {
   "cell_type": "markdown",
   "metadata": {},
   "source": [
    "## Data Preprocessing"
   ]
  },
  {
   "cell_type": "markdown",
   "metadata": {},
   "source": [
    "#### Adjusting salary for skewness"
   ]
  },
  {
   "cell_type": "code",
   "execution_count": 3,
   "metadata": {},
   "outputs": [
    {
     "name": "stderr",
     "output_type": "stream",
     "text": [
      "/Users/sw/.venv/lib/python3.6/site-packages/matplotlib/axes/_axes.py:6462: UserWarning: The 'normed' kwarg is deprecated, and has been replaced by the 'density' kwarg.\n",
      "  warnings.warn(\"The 'normed' kwarg is deprecated, and has been \"\n"
     ]
    },
    {
     "data": {
      "text/plain": [
       "-0.09825249198384019"
      ]
     },
     "execution_count": 3,
     "metadata": {},
     "output_type": "execute_result"
    },
    {
     "data": {
      "image/png": "[encoded data removed]",
      "text/plain": [
       "<Figure size 1224x360 with 2 Axes>"
      ]
     },
     "metadata": {},
     "output_type": "display_data"
    }
   ],
   "source": [
    "figure, (ax1,ax2) = plt.subplots(1,2,figsize = (17,5))\n",
    "sns.distplot(train['Salary'], kde = False, ax = ax1, bins = 200)\n",
    "sns.distplot(np.log1p(train[\"Salary\"]), kde = False, axlabel = 'Normalized Salary', ax = ax2, bins = 100)\n",
    "train['Salary'] = np.log1p(train[\"Salary\"])\n",
    "skew(train.Salary)"
   ]
  },
  {
   "cell_type": "code",
   "execution_count": 4,
   "metadata": {},
   "outputs": [],
   "source": [
    "def convertTF(df,featureList):\n",
    "    d = {True:1, False:0}\n",
    "    for feature in featureList:\n",
    "        df[feature] = df[feature].apply(lambda x: d[x])\n",
    "    return df\n",
    "\n",
    "def yearReturn(x):\n",
    "    return x.year\n",
    "\n",
    "def pos(x):\n",
    "    if x > 0: \n",
    "        return 1\n",
    "    else:\n",
    "        return 0\n",
    "def neg(x):\n",
    "    if x < 0:\n",
    "        return 1\n",
    "    else:\n",
    "        return 0\n",
    "\n",
    "def val(x):\n",
    "    if x > 0.44:\n",
    "        return 3\n",
    "    elif x < -0.44:\n",
    "        return 1\n",
    "    else:\n",
    "        return 2\n",
    "\n",
    "def conv_english(x) :\n",
    "    if x >= 520:\n",
    "        return 3\n",
    "    elif x < 420:\n",
    "        return 1\n",
    "    else:\n",
    "        return 2\n",
    "\n",
    "def conv_logical(x) :\n",
    "    if x >= 600:\n",
    "        return 3\n",
    "    elif x < 450:\n",
    "        return 1\n",
    "    else:\n",
    "        return 2\n",
    "    \n",
    "def conv_quant(x) :\n",
    "    if x >= 600:\n",
    "        return 3\n",
    "    elif x < 500:\n",
    "        return 1\n",
    "    else:\n",
    "        return 2\n",
    "    \n",
    "def conv_prog(x) :\n",
    "    if x >= 600:\n",
    "        return 3\n",
    "    elif x < 500:\n",
    "        return 1\n",
    "    else:\n",
    "        return 2\n",
    "    \n",
    "def gpaCal(x):\n",
    "    if x <= 10:\n",
    "        return x*10\n",
    "    else:\n",
    "        return x\n",
    "    \n",
    "def isNationalBoard(row):\n",
    "    if (row['isCbse'] or row['isISC'] or row['isICSE']):\n",
    "        return 1\n",
    "    else:\n",
    "        return 0\n",
    "\n",
    "def prepare(train):\n",
    "    # Extract Designation\n",
    "    train['isSenior'] = train.Designation.str.contains('senior')\n",
    "    train['isSoftware'] = train.Designation.str.contains('software')\n",
    "    train['isManager'] = train.Designation.str.contains('manager')\n",
    "    train['isEngineer'] = train.Designation.str.contains('engineer')\n",
    "    train['isDeveloper'] = train.Designation.str.contains('developer')\n",
    "    \n",
    "    # Extract Degree\n",
    "    train['isBtech'] = train.Degree.str.contains('B.Tech/B.E.')\n",
    "    train['isMCA'] = train.Degree.str.contains('MCA')\n",
    "    train['isMtech'] = train.Degree.str.contains('M.Tech./M.E.')\n",
    "    \n",
    "    # Extract Board of Examination\n",
    "    train['isCbse'] = train['12board'].str.contains('cbse')\n",
    "    train['isStateBoard'] = train['12board'].str.contains('state board')\n",
    "    train['isISC'] = train['12board'].str.contains('isc')\n",
    "    train['isICSE'] = train['12board'].str.contains('icse')\n",
    "    train['isCbse'].fillna(value = False, inplace = True)\n",
    "    train['isStateBoard'].fillna(value = False, inplace = True)\n",
    "    train['isISC'].fillna(value = False, inplace = True)\n",
    "    train['isICSE'].fillna(value = False, inplace = True)\n",
    "    train['isNationalBoard'] = 0\n",
    "    train['isNationalBoard'] = train.apply(lambda x : isNationalBoard(x), axis=1)\n",
    "    \n",
    "    \n",
    "    # Extract Specialization\n",
    "    train['isCSE'] = train.Specialization.str.contains('computer engineering')\n",
    "    train['isECE'] = train.Specialization.str.contains('electronics and communication engineering')\n",
    "    train['isIT'] = train.Specialization.str.contains('information technology')\n",
    "    train['isMech'] = train.Specialization.str.contains('mechanical engineering')\n",
    "    train['isICE'] = train.Specialization.str.contains('instrumentation and control engineering')\n",
    "    train['isEE'] = train.Specialization.str.contains('electrical engineering')\n",
    "    \n",
    "    train = convertTF(train, ['isCbse', 'isStateBoard', 'isISC', 'isICSE', 'isBtech', 'isMCA', 'isMtech', 'isSenior', 'isSoftware', 'isManager', 'isEngineer', 'isDeveloper','isCSE', 'isECE', 'isIT', 'isMech', 'isICE', 'isEE'])\n",
    "    \n",
    "    # Cleaning\n",
    "    m = train.ComputerProgramming.mean(skipna=True)\n",
    "    train.ComputerProgramming.fillna(m, inplace=True)\n",
    "\n",
    "    n = train.Domain.mean(skipna=True)\n",
    "    train.Domain.fillna(n, inplace=True)\n",
    "\n",
    "    train.GraduationYear.replace(0,None,inplace=True)\n",
    "    m = train.GraduationYear.mean(skipna=True)\n",
    "    train.GraduationYear.fillna(m, inplace=True)\n",
    "    \n",
    "    # Generate Features\n",
    "\n",
    "    #MaxDomain : max of the domains in one column\n",
    "    train['maxDomain'] = train[['ComputerProgramming','ComputerScience','ElectronicsAndSemicon','MechanicalEngg','ElectricalEngg','TelecomEngg','CivilEngg']].max(axis=1)\n",
    "\n",
    "    # diffGrad : difference between Graduation Year & 12th graduation, to see whether drop in college affect scores\n",
    "    train['diffGrad'] = train.GraduationYear - train['12graduation']\n",
    "\n",
    "    # diffGradDOB : difference between Graduation Year and DOB\n",
    "    train['DOBY'] = train.DOB.apply(yearReturn)\n",
    "    train['diffGradDOB'] = train.GraduationYear - train.DOBY\n",
    "    \n",
    "    # Big Five scores\n",
    "    train['bigfive'] = 0\n",
    "    train.bigfive += train.agreeableness.apply(lambda x : val(x))\n",
    "    train.bigfive += train.conscientiousness.apply(lambda x : val(x))\n",
    "    train.bigfive += train.nueroticism.apply(lambda x : val(x))\n",
    "    train.bigfive += train.extraversion.apply(lambda x : val(x))\n",
    "    train.bigfive += train.openess_to_experience.apply(lambda x : val(x))\n",
    "    \n",
    "    # Translate English / Logical / Quants scores\n",
    "    train['scores'] = 0\n",
    "    train['scores'] += train.English.apply(lambda x : conv_english(x))\n",
    "    train['scores'] += train.Logical.apply(lambda x : conv_logical(x))\n",
    "    train['scores'] += train.Quant.apply(lambda x : conv_quant(x))\n",
    "    train['scores'] += train.ComputerProgramming.apply(lambda x : conv_prog(x))\n",
    "    \n",
    "    # Fix GPA to 100 scale\n",
    "    train['mcolgGPA'] = train.collegeGPA.apply(lambda x: gpaCal(x))\n",
    "    \n",
    "    #Feature columns to take\n",
    "    feature_cols = ['10percentage','12percentage', 'mcolgGPA', 'CollegeTier','CollegeCityTier', 'GraduationYear','scores','Domain','maxDomain','bigfive','diffGradDOB','isCSE','isIT','isECE','isMech','isICE','isEE']\n",
    "    X = train[feature_cols]\n",
    "    y = train.Salary\n",
    "    \n",
    "    return X,y"
   ]
  },
  {
   "cell_type": "code",
   "execution_count": 5,
   "metadata": {},
   "outputs": [],
   "source": [
    "X, Y = prepare(train)"
   ]
  },
  {
   "cell_type": "code",
   "execution_count": null,
   "metadata": {},
   "outputs": [],
   "source": [
    "cols = ['10percentage','12percentage', 'mcolgGPA', 'CollegeTier','CollegeCityTier', 'GraduationYear','scores','Domain','maxDomain','bigfive','diffGradDOB','isCSE','isIT','isECE','isMech','isICE','isEE']\n",
    "\n",
    "sns.pairplot(train, x_vars = cols[:4], y_vars = 'Salary', size = 7, aspect = 0.7)\n",
    "sns.pairplot(train, x_vars = cols[4:8], y_vars = 'Salary', size = 7, aspect = 0.7)\n",
    "sns.pairplot(train, x_vars = cols[8:12], y_vars = 'Salary', size = 7, aspect = 0.7)\n",
    "sns.pairplot(train, x_vars = cols[12:], y_vars = 'Salary', size = 7, aspect = 0.7)"
   ]
  },
  {
   "cell_type": "code",
   "execution_count": null,
   "metadata": {},
   "outputs": [],
   "source": [
    "X_train, X_test, y_train, y_test = train_test_split(X,Y, test_size= 0.2 ,random_state = 1)\n",
    "X_train.head()"
   ]
  },
  {
   "cell_type": "markdown",
   "metadata": {},
   "source": [
    "### Computing Skewness\n",
    "\n",
    "(Result: Within Acceptable Limits)"
   ]
  },
  {
   "cell_type": "code",
   "execution_count": null,
   "metadata": {},
   "outputs": [],
   "source": [
    "classes = ['10percentage', '12percentage', 'mcolgGPA', 'GraduationYear', 'maxDomain', 'Domain', 'bigfive', 'diffGradDOB']\n",
    "X_u = pd.DataFrame()\n",
    "for c in classes:\n",
    "    param = X_train[c] \n",
    "    skness = skew(param) \n",
    "    figure = plt.figure(figsize=(30,5))\n",
    "    figure.add_subplot(121)   \n",
    "    plt.hist(param,facecolor='blue',alpha=0.5, bins=100) \n",
    "    plt.xlabel(c + \" - Distribution\") \n",
    "    plt.title(\"Skewness: {0:.2f}\".format(skness)) \n",
    "    plt.show()"
   ]
  },
  {
   "cell_type": "code",
   "execution_count": null,
   "metadata": {},
   "outputs": [],
   "source": [
    "def cv_error(model):\n",
    "    cve= np.sqrt(-cross_val_score(model, X_train, y_train, scoring=\"mean_squared_error\", cv = 5))\n",
    "    return(cve)"
   ]
  },
  {
   "cell_type": "code",
   "execution_count": null,
   "metadata": {},
   "outputs": [],
   "source": [
    "def display_metrics(y_test, y_pred):\n",
    "    print (\"MAE : %f\" % metrics.mean_absolute_error(y_test, y_pred))\n",
    "    print (\"RMSE : %f\" % np.sqrt(metrics.mean_squared_error(y_test, y_pred)))\n",
    "    print (\"\\n\")\n",
    "\n",
    "def model_train(model,X,y):\n",
    "    # split test, train\n",
    "    X_train, X_test, y_train, y_test = train_test_split(X,y, random_state = 1)\n",
    "    \n",
    "    model.fit(X_train, y_train)\n",
    "    y_pred = model.predict(X_test)\n",
    "    display_metrics(y_test, y_pred)\n",
    "    plt.figure(figsize= (50,10))\n",
    "    preds = pd.DataFrame({\"Predicted\":model.predict(X_test), \"true\":y_test})\n",
    "    preds[\"Difference\"] = preds[\"true\"] - preds[\"Predicted\"]\n",
    "    preds.plot(x = \"Predicted\", y = \"Difference\",kind = \"scatter\", title = \"Residual Features\")\n",
    "    plt.show()\n",
    "    \n",
    "def training(X,y):   \n",
    "    \n",
    "    #SVM Regression\n",
    "    svm_clf = svm.SVR()\n",
    "    print (\"SVM Regression\")\n",
    "    model_train(svm_clf, X, y)\n",
    "    \n",
    "    #Random Forests\n",
    "    rand_clf = RandomForestRegressor(n_estimators = 1500,max_features='sqrt')\n",
    "    print (\"Random Forests\")\n",
    "    model_train(rand_clf, X, y)\n",
    "    \n",
    "    #Linear SVM Regression\n",
    "    ridge_clf = Ridge(alpha=0.1)\n",
    "    print (\"Ridge Regression\")\n",
    "    model_train(ridge_clf, X, y)\n",
    "    \n",
    "    #Lasso Regression\n",
    "    lasso_clf = linear_model.Lasso(alpha=0.001, selection=\"random\", random_state=1)\n",
    "    print (\"Lasso Regression\")\n",
    "    model_train(lasso_clf, X, y)\n",
    "    \n",
    "    #Linear Regression\n",
    "    mlp_clf = MLPRegressor(solver = 'lbfgs', alpha = 0.01, hidden_layer_sizes=(10,10), random_state= 1)\n",
    "    print (\"MLP (NN)\")\n",
    "    model_train(mlp_clf, X, y)\n",
    "\n",
    "    \n",
    "    return svm_clf, rand_clf, ridge_clf, lasso_clf, mlp_clf\n",
    "\n",
    "svm_clf, rand_clf, linear_svm_clf, lasso_clf, linear_clf = training(X, Y)\n"
   ]
  },
  {
   "cell_type": "code",
   "execution_count": null,
   "metadata": {},
   "outputs": [],
   "source": [
    "svm = svm.SVR(C=.01, kernel='linear')\n",
    "svm.fit(X,Y)"
   ]
  },
  {
   "cell_type": "code",
   "execution_count": null,
   "metadata": {},
   "outputs": [],
   "source": [
    "coef = pd.Series(svm.coef_[0], index = X.columns)\n",
    "relevant_Coeff = coef.sort_values().tail(10)\n",
    "irrelevant_Coeff = coef.sort_values().head(10)\n",
    "\n",
    "#Plots\n",
    "plt.figure(figsize=(20,10))\n",
    "relevant_Coeff.plot(kind = \"barh\", title=\"Most Relevant Aspects that affect placements of graduates positively\")"
   ]
  },
  {
   "cell_type": "code",
   "execution_count": null,
   "metadata": {},
   "outputs": [],
   "source": [
    "test  = pd.read_excel('test.xlsx', na_values=-1)\n",
    "X, y = prepare(test)\n",
    "def testing(X, model, ds, file_name):\n",
    "    y_pred = np.expm1(model.predict(X))\n",
    "    submission = pd.DataFrame(columns=['ID','Salary'])\n",
    "    submission.ID = ds.ID\n",
    "    submission.Salary = y_pred\n",
    "    writer_orig = pd.ExcelWriter(file_name, engine='xlsxwriter')\n",
    "    submission.to_excel(writer_orig, index=False, sheet_name='report')\n",
    "    writer_orig.save()\n",
    "testing(X, lasso_clf, test, 'result.xlsx')"
   ]
  },
  {
   "cell_type": "code",
   "execution_count": null,
   "metadata": {},
   "outputs": [],
   "source": [
    "y  = pd.read_excel('result.xlsx', na_values=-1)"
   ]
  },
  {
   "cell_type": "code",
   "execution_count": null,
   "metadata": {},
   "outputs": [],
   "source": [
    "y.mean()"
   ]
  },
  {
   "cell_type": "code",
   "execution_count": null,
   "metadata": {
    "scrolled": true
   },
   "outputs": [],
   "source": [
    "plt.hist(y.Salary, bins=200)\n"
   ]
  },
  {
   "cell_type": "code",
   "execution_count": null,
   "metadata": {},
   "outputs": [],
   "source": [
    "filename = 'finalized_model.sav'\n",
    "pickle.dump(lasso_clf, open(filename, 'wb'))"
   ]
  },
  {
   "cell_type": "code",
   "execution_count": null,
   "metadata": {},
   "outputs": [],
   "source": [
    "loaded_model = pickle.load(open(filename, 'rb'))"
   ]
  },
  {
   "cell_type": "code",
   "execution_count": null,
   "metadata": {},
   "outputs": [],
   "source": [
    "test  = pd.read_excel('test.xlsx', na_values=-1)\n",
    "X, y = prepare(test)\n",
    "def testing(X, model, ds, file_name):\n",
    "    y_pred = np.expm1(model.predict(X))\n",
    "    submission = pd.DataFrame(columns=['ID','Salary'])\n",
    "    submission.ID = ds.ID\n",
    "    submission.Salary = y_pred\n",
    "    writer_orig = pd.ExcelWriter(file_name, engine='xlsxwriter')\n",
    "    submission.to_excel(writer_orig, index=False, sheet_name='report')\n",
    "    writer_orig.save()\n",
    "testing(X, loaded_model, test, 'result2.xlsx')"
   ]
  },
  {
   "cell_type": "code",
   "execution_count": null,
   "metadata": {},
   "outputs": [],
   "source": [
    "print (lasso_clf.__dict__)"
   ]
  },
  {
   "cell_type": "code",
   "execution_count": null,
   "metadata": {},
   "outputs": [],
   "source": []
  }
 ],
 "metadata": {
  "anaconda-cloud": {},
  "kernelspec": {
   "display_name": "Python 3",
   "language": "python",
   "name": "python3"
  },
  "language_info": {
   "codemirror_mode": {
    "name": "ipython",
    "version": 3
   },
   "file_extension": ".py",
   "mimetype": "text/x-python",
   "name": "python",
   "nbconvert_exporter": "python",
   "pygments_lexer": "ipython3",
   "version": "3.6.5"
  }
 },
 "nbformat": 4,
 "nbformat_minor": 1
}
